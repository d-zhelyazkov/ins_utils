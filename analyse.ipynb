{
 "cells": [
  {
   "cell_type": "code",
   "execution_count": null,
   "metadata": {},
   "outputs": [],
   "source": [
    "import re\n",
    "\n",
    "import pandas as pd\n",
    "\n",
    "KEY_COL = \"key\"\n",
    "\n",
    "\n",
    "def process_name(df, col):\n",
    "    df[col] = (df[col]\n",
    "               .apply(lambda s: s.replace(\"\\n\", \" \"))\n",
    "               # .apply(lambda s: s.replace('\"', \"\"))\n",
    "               .apply(lambda s: re.sub('\\\"|\\“', '', s))\n",
    "               .apply(str.strip)\n",
    "               )\n",
    "\n",
    "    df[KEY_COL] = (df[col]\n",
    "                   .apply(str.lower)\n",
    "                   .apply(lambda s: \" \".join((word\n",
    "                                              for word in s.split()\n",
    "                                              if word\n",
    "                                              if re.match(r\"\\w+\",word)\n",
    "                                              if word not in (\n",
    "                                                  \"оод\",\n",
    "                                                  \"еоод\",\n",
    "                                                  \"ад\",\n",
    "                                                  \"ауто\",\n",
    "                                                  \"авто\",\n",
    "                                                  \"кар\",\n",
    "                                                  \"мото\",\n",
    "                                                  \"българия\",\n",
    "                                                  \"софия\",\n",
    "                                                  \"сервиз\",\n",
    "                                                  \"сервис\",\n",
    "                                                  \"сървиз\",\n",
    "                                                  \"сървис\",\n",
    "                                                  \"колор\",\n",
    "                                                  \"пейнт\",\n",
    "                                                  \"груп\",\n",
    "                                                  \"и\",\n",
    "                                                  \"енд\",\n",
    "                                              ))))\n",
    "                   )\n",
    "\n",
    "    return df"
   ]
  },
  {
   "cell_type": "code",
   "execution_count": null,
   "metadata": {
    "pycharm": {
     "name": "#%%\n"
    }
   },
   "outputs": [],
   "source": [
    "asset_garages = pd.read_csv(\"Asset_garages_Sofia.csv\",\n",
    "                            skiprows=1,\n",
    "                            )\n",
    "asset_garages = asset_garages[asset_garages['Unnamed: 0'].notna()]\n",
    "asset_garages = asset_garages[asset_garages['Сервиз'].notna()]\n",
    "asset_garages = process_name(asset_garages, \"Сервиз\")\n",
    "asset_garages.to_csv(\"Asset_garages_Sofia_proc.csv\")\n",
    "# set(asset_garages[KEY_COL])\n",
    "asset_garages\n"
   ]
  },
  {
   "cell_type": "code",
   "execution_count": null,
   "metadata": {
    "pycharm": {
     "name": "#%%\n"
    }
   },
   "outputs": [],
   "source": [
    "dzi_garages = pd.read_csv(\"DZI-Garages-Sept20.csv\")\n",
    "dzi_garages = dzi_garages[dzi_garages[\"Име на Сервиз\"].notna()]\n",
    "dzi_garages = process_name(dzi_garages, \"Име на Сервиз\")\n",
    "dzi_garages.to_csv(\"DZI_Garages_Sept20_proc.csv\")\n",
    "# set(dzi_garages[KEY_COL])\n",
    "dzi_garages"
   ]
  },
  {
   "cell_type": "code",
   "execution_count": null,
   "metadata": {
    "pycharm": {
     "name": "#%%\n"
    }
   },
   "outputs": [],
   "source": [
    "dzi_sofia = dzi_garages[dzi_garages.apply(\n",
    "    lambda x: \"софия\" in x['Град'].lower(),\n",
    "    axis=1,\n",
    ")]\n",
    "dzi_sofia"
   ]
  },
  {
   "cell_type": "code",
   "execution_count": null,
   "metadata": {
    "pycharm": {
     "name": "#%%\n"
    }
   },
   "outputs": [],
   "source": [
    "set(asset_garages[KEY_COL]).intersection(set(dzi_sofia[KEY_COL]))"
   ]
  },
  {
   "cell_type": "code",
   "execution_count": null,
   "metadata": {
    "pycharm": {
     "name": "#%%\n"
    }
   },
   "outputs": [],
   "source": [
    "garage_match = pd.merge(asset_garages,dzi_sofia,on=KEY_COL)\n",
    "garage_match.to_csv(\"sofia_garages.csv\")\n",
    "garage_match"
   ]
  }
 ],
 "metadata": {
  "kernelspec": {
   "display_name": "Python 3",
   "language": "python",
   "name": "python3"
  },
  "language_info": {
   "codemirror_mode": {
    "name": "ipython",
    "version": 3
   },
   "file_extension": ".py",
   "mimetype": "text/x-python",
   "name": "python",
   "nbconvert_exporter": "python",
   "pygments_lexer": "ipython3",
   "version": "3.8.5"
  }
 },
 "nbformat": 4,
 "nbformat_minor": 1
}
